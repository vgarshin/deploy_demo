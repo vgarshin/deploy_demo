{
 "cells": [
  {
   "cell_type": "code",
   "execution_count": 1,
   "metadata": {},
   "outputs": [],
   "source": [
    "import json\n",
    "import requests"
   ]
  },
  {
   "cell_type": "markdown",
   "metadata": {},
   "source": [
    "## Just train"
   ]
  },
  {
   "cell_type": "code",
   "execution_count": 2,
   "metadata": {},
   "outputs": [
    {
     "name": "stdout",
     "output_type": "stream",
     "text": [
      "http://127.0.0.1:10000/train\n",
      "<Response [200]> b'{\"20190828_085009_0x555fc4009be7fb86\": [{\"train ROC-AUC\": 0.937021758419231}, {\"test ROC-AUC\": 0.7803341433500928}]}'\n"
     ]
    }
   ],
   "source": [
    "header = {'Content-Type': 'application/json'}\n",
    "data = {'n_news': 10000, 'n_folds': 3} \n",
    "url_server = 'http://127.0.0.1:10000/train'\n",
    "print(url_server)\n",
    "r = requests.post(url_server,\n",
    "                  data=json.dumps(data),\n",
    "                  headers=header,\n",
    "                  verify=False)\n",
    "print(r, r.content)"
   ]
  },
  {
   "cell_type": "code",
   "execution_count": 8,
   "metadata": {},
   "outputs": [
    {
     "name": "stdout",
     "output_type": "stream",
     "text": [
      "response code:  <Response [200]> \n",
      "response text:  {\"20190828_085009_0x555fc4009be7fb86\": [{\"train ROC-AUC\": 0.937021758419231}, {\"test ROC-AUC\": 0.7803341433500928}]}\n",
      "selected model: 20190828_085009_0x555fc4009be7fb86\n"
     ]
    }
   ],
   "source": [
    "url_server = 'http://127.0.0.1:10000/models'\n",
    "r = requests.get(url_server, verify=False)\n",
    "print('response code: ', r, '\\nresponse text: ', r.text)\n",
    "model_id = list(json.loads(r.content).keys())[0]\n",
    "print('selected model:', model_id)"
   ]
  },
  {
   "cell_type": "code",
   "execution_count": 9,
   "metadata": {},
   "outputs": [
    {
     "name": "stdout",
     "output_type": "stream",
     "text": [
      "http://127.0.0.1:10000/predict\n",
      "response code:  <Response [200]> \n",
      "response text:  {\"model\": \"20190828_085009_0x555fc4009be7fb86\", \"classes probabilities\": {\"-1\": [0.6903268098831177], \"0\": [0.27604246139526367], \"1\": [0.17118893563747406]}}\n"
     ]
    }
   ],
   "source": [
    "news_text = \"\"\"\n",
    "Дефолт проблемы задолженность долги банкротство суд тюрьма Сибирь\n",
    "\"\"\"\n",
    "header = {'Content-Type': 'application/json'}\n",
    "data = {'model_id': model_id, 'news_text': news_text} \n",
    "url_server = 'http://127.0.0.1:10000/predict'\n",
    "print(url_server)\n",
    "r = requests.post(url_server,\n",
    "                  data=json.dumps(data),\n",
    "                  headers=header,\n",
    "                  verify=False)\n",
    "print('response code: ', r, '\\nresponse text: ', r.text)"
   ]
  },
  {
   "cell_type": "markdown",
   "metadata": {},
   "source": [
    "## Backgroud train (use of threads)"
   ]
  },
  {
   "cell_type": "code",
   "execution_count": 11,
   "metadata": {},
   "outputs": [
    {
     "name": "stdout",
     "output_type": "stream",
     "text": [
      "http://127.0.0.1:10000/train\n",
      "<Response [200]> b'{\"training model\": \"20190828_091042_0x4adc5c7da4f8fff7\", \"news total\": 1000, \"folds\": 3}'\n"
     ]
    }
   ],
   "source": [
    "header = {'Content-Type': 'application/json'}\n",
    "data = {'n_news': 1000, 'n_folds': 3} \n",
    "url_server = 'http://127.0.0.1:10000/train'\n",
    "print(url_server)\n",
    "r = requests.post(url_server,\n",
    "                  data=json.dumps(data),\n",
    "                  headers=header,\n",
    "                  verify=False)\n",
    "print(r, r.content)"
   ]
  },
  {
   "cell_type": "code",
   "execution_count": 14,
   "metadata": {},
   "outputs": [
    {
     "name": "stdout",
     "output_type": "stream",
     "text": [
      "response code:  <Response [200]> \n",
      "response text:  {\"models loaded\": [\"20190627_144759_0x57217ff282acba4a\", \"20190627_150340_0x14892ea4cfbdc8aa\", \"20190627_150453_0xd0f4aab2d7bf9ef3\", \"20190628_094900_0x936d458976a1776\", \"20190628_095436_0x5291dfeeb3677dbb\", \"20190628_112422_0x8231e5a8a1f9b25\", \"20190828_091042_0x4adc5c7da4f8fff7\"]}\n"
     ]
    }
   ],
   "source": [
    "url_server = 'http://127.0.0.1:10000/load'\n",
    "r = requests.get(url_server, verify=False)\n",
    "print('response code: ', r, '\\nresponse text: ', r.text)"
   ]
  },
  {
   "cell_type": "code",
   "execution_count": 18,
   "metadata": {},
   "outputs": [
    {
     "name": "stdout",
     "output_type": "stream",
     "text": [
      "response code:  <Response [200]> \n",
      "response text:  {\"20190627_144759_0x57217ff282acba4a\": [{\"train ROC-AUC\": 0.9753984223376048}, {\"test ROC-AUC\": 0.8187130815346169}], \"20190627_150340_0x14892ea4cfbdc8aa\": [{\"train ROC-AUC\": 0.9725353265496153}, {\"test ROC-AUC\": 0.8349253939375789}], \"20190627_150453_0xd0f4aab2d7bf9ef3\": [{\"train ROC-AUC\": 0.9471989840757077}, {\"test ROC-AUC\": 0.8037379168955421}], \"20190628_094900_0x936d458976a1776\": [{\"train ROC-AUC\": 0.9388351450565914}, {\"test ROC-AUC\": 0.8097722729802841}], \"20190628_095436_0x5291dfeeb3677dbb\": [{\"train ROC-AUC\": 0.9505957120690339}, {\"test ROC-AUC\": 0.792350967394291}], \"20190628_112422_0x8231e5a8a1f9b25\": [{\"train ROC-AUC\": 0.9497999423078888}, {\"test ROC-AUC\": 0.7711129773036854}], \"20190828_091042_0x4adc5c7da4f8fff7\": [{\"train ROC-AUC\": 0.9950000644197073}, {\"test ROC-AUC\": 0.8468091597718247}]}\n",
      "selected model: 20190627_150340_0x14892ea4cfbdc8aa\n"
     ]
    }
   ],
   "source": [
    "url_server = 'http://127.0.0.1:10000/models'\n",
    "r = requests.get(url_server, verify=False)\n",
    "print('response code: ', r, '\\nresponse text: ', r.text)\n",
    "model_id = list(json.loads(r.content).keys())[1]\n",
    "print('selected model:', model_id)"
   ]
  },
  {
   "cell_type": "code",
   "execution_count": 19,
   "metadata": {},
   "outputs": [
    {
     "name": "stdout",
     "output_type": "stream",
     "text": [
      "http://127.0.0.1:10000/predict\n",
      "response code:  <Response [200]> \n",
      "response text:  {\"model\": \"20190627_150340_0x14892ea4cfbdc8aa\", \"classes probabilities\": {\"-1\": [0.5466654896736145], \"0\": [0.5507513880729675], \"1\": [0.5204562544822693]}}\n"
     ]
    }
   ],
   "source": [
    "news_text = \"\"\"\n",
    "20 июня в Москве состоялась торжественная церемония награждения лучших компаний ежегодного конкурса \n",
    "«Элита финансового рынка». ВТБ стал обладателем премии «Брокерская компания года». Победителем \n",
    "в номинации «Лучшая управляющая компания для розничных инвесторов» стал ВТБ Капитал Управление \n",
    "Инвестициями, а ПИФ «ВТБ – Фонд Казначейский» стал «Лучшим фондом облигаций».\n",
    "\"\"\"\n",
    "header = {'Content-Type': 'application/json'}\n",
    "data = {'model_id': model_id, 'news_text': news_text} \n",
    "url_server = 'http://127.0.0.1:10000/predict'\n",
    "print(url_server)\n",
    "r = requests.post(url_server,\n",
    "                  data=json.dumps(data),\n",
    "                  headers=header,\n",
    "                  verify=False)\n",
    "print('response code: ', r, '\\nresponse text: ', r.text)"
   ]
  },
  {
   "cell_type": "code",
   "execution_count": 20,
   "metadata": {},
   "outputs": [
    {
     "name": "stdout",
     "output_type": "stream",
     "text": [
      "http://127.0.0.1:10000/predict\n",
      "response code:  <Response [200]> \n",
      "response text:  {\"model\": \"20190627_150340_0x14892ea4cfbdc8aa\", \"classes probabilities\": {\"-1\": [0.6675415635108948], \"0\": [0.2772167921066284], \"1\": [0.46537625789642334]}}\n"
     ]
    }
   ],
   "source": [
    "news_text = \"\"\"\n",
    "Дефолт проблемы задолженность долги банкротство суд тюрьма Сибирь\n",
    "\"\"\"\n",
    "header = {'Content-Type': 'application/json'}\n",
    "data = {'model_id': model_id, 'news_text': news_text} \n",
    "url_server = 'http://127.0.0.1:10000/predict'\n",
    "print(url_server)\n",
    "r = requests.post(url_server,\n",
    "                  data=json.dumps(data),\n",
    "                  headers=header,\n",
    "                  verify=False)\n",
    "print('response code: ', r, '\\nresponse text: ', r.text)"
   ]
  },
  {
   "cell_type": "markdown",
   "metadata": {},
   "source": [
    "## Backgroud train (use of processes)"
   ]
  },
  {
   "cell_type": "code",
   "execution_count": 29,
   "metadata": {},
   "outputs": [
    {
     "name": "stdout",
     "output_type": "stream",
     "text": [
      "http://127.0.0.1:10000/train\n",
      "<Response [200]> b'{\"training model\": \"20190828_094006_0xa93fbf4b9b7aea29\", \"news total\": 2000, \"folds\": 3}'\n"
     ]
    }
   ],
   "source": [
    "header = {'Content-Type': 'application/json'}\n",
    "data = {'n_news': 2000, 'n_folds': 3} \n",
    "url_server = 'http://127.0.0.1:10000/train'\n",
    "print(url_server)\n",
    "r = requests.post(url_server,\n",
    "                  data=json.dumps(data),\n",
    "                  headers=header,\n",
    "                  verify=False)\n",
    "print(r, r.content)"
   ]
  },
  {
   "cell_type": "code",
   "execution_count": 31,
   "metadata": {},
   "outputs": [
    {
     "name": "stdout",
     "output_type": "stream",
     "text": [
      "response code:  <Response [200]> \n",
      "response text:  {\"models loaded\": [\"20190627_144759_0x57217ff282acba4a\", \"20190627_150340_0x14892ea4cfbdc8aa\", \"20190627_150453_0xd0f4aab2d7bf9ef3\", \"20190628_094900_0x936d458976a1776\", \"20190628_095436_0x5291dfeeb3677dbb\", \"20190628_112422_0x8231e5a8a1f9b25\", \"20190828_091042_0x4adc5c7da4f8fff7\", \"20190828_091022_0xbb51983272cbb5f\", \"20190828_093527_0x36baa3ded9ffb4db\", \"20190828_094001_0xf0b22eab1f10a54d\", \"20190828_094006_0xa93fbf4b9b7aea29\"]}\n"
     ]
    }
   ],
   "source": [
    "url_server = 'http://127.0.0.1:10000/load'\n",
    "r = requests.get(url_server, verify=False)\n",
    "print('response code: ', r, '\\nresponse text: ', r.text)"
   ]
  },
  {
   "cell_type": "code",
   "execution_count": 32,
   "metadata": {},
   "outputs": [
    {
     "name": "stdout",
     "output_type": "stream",
     "text": [
      "response code:  <Response [200]> \n",
      "response text:  {\"20190627_144759_0x57217ff282acba4a\": [{\"train ROC-AUC\": 0.9753984223376048}, {\"test ROC-AUC\": 0.8187130815346169}], \"20190627_150340_0x14892ea4cfbdc8aa\": [{\"train ROC-AUC\": 0.9725353265496153}, {\"test ROC-AUC\": 0.8349253939375789}], \"20190627_150453_0xd0f4aab2d7bf9ef3\": [{\"train ROC-AUC\": 0.9471989840757077}, {\"test ROC-AUC\": 0.8037379168955421}], \"20190628_094900_0x936d458976a1776\": [{\"train ROC-AUC\": 0.9388351450565914}, {\"test ROC-AUC\": 0.8097722729802841}], \"20190628_095436_0x5291dfeeb3677dbb\": [{\"train ROC-AUC\": 0.9505957120690339}, {\"test ROC-AUC\": 0.792350967394291}], \"20190628_112422_0x8231e5a8a1f9b25\": [{\"train ROC-AUC\": 0.9497999423078888}, {\"test ROC-AUC\": 0.7711129773036854}], \"20190828_091042_0x4adc5c7da4f8fff7\": [{\"train ROC-AUC\": 0.9950000644197073}, {\"test ROC-AUC\": 0.8468091597718247}], \"20190828_091022_0xbb51983272cbb5f\": [{\"train ROC-AUC\": 0.9220160592740076}, {\"test ROC-AUC\": 0.7823707101387969}], \"20190828_093527_0x36baa3ded9ffb4db\": [{\"train ROC-AUC\": 0.9934500803577901}, {\"test ROC-AUC\": 0.7569604777440798}], \"20190828_094001_0xf0b22eab1f10a54d\": [{\"train ROC-AUC\": 0.9728782637585992}, {\"test ROC-AUC\": 0.7449126252397918}], \"20190828_094006_0xa93fbf4b9b7aea29\": [{\"train ROC-AUC\": 0.9153777611926714}, {\"test ROC-AUC\": 0.8075875476311569}]}\n",
      "selected model: 20190627_150340_0x14892ea4cfbdc8aa\n"
     ]
    }
   ],
   "source": [
    "url_server = 'http://127.0.0.1:10000/models'\n",
    "r = requests.get(url_server, verify=False)\n",
    "print('response code: ', r, '\\nresponse text: ', r.text)\n",
    "model_id = list(json.loads(r.content).keys())[1]\n",
    "print('selected model:', model_id)"
   ]
  },
  {
   "cell_type": "code",
   "execution_count": 33,
   "metadata": {},
   "outputs": [
    {
     "name": "stdout",
     "output_type": "stream",
     "text": [
      "http://127.0.0.1:10000/predict\n",
      "response code:  <Response [200]> \n",
      "response text:  {\"model\": \"20190627_150340_0x14892ea4cfbdc8aa\", \"classes probabilities\": {\"-1\": [0.6675415635108948], \"0\": [0.2772168219089508], \"1\": [0.46537625789642334]}}\n"
     ]
    }
   ],
   "source": [
    "news_text = \"\"\"\n",
    "Дефолт проблемы задолженность долги банкротство суд тюрьма Сибирь\n",
    "\"\"\"\n",
    "header = {'Content-Type': 'application/json'}\n",
    "data = {'model_id': model_id, 'news_text': news_text} \n",
    "url_server = 'http://127.0.0.1:10000/predict'\n",
    "print(url_server)\n",
    "r = requests.post(url_server,\n",
    "                  data=json.dumps(data),\n",
    "                  headers=header,\n",
    "                  verify=False)\n",
    "print('response code: ', r, '\\nresponse text: ', r.text)"
   ]
  },
  {
   "cell_type": "code",
   "execution_count": null,
   "metadata": {},
   "outputs": [],
   "source": []
  }
 ],
 "metadata": {
  "kernelspec": {
   "display_name": "Python 3",
   "language": "python",
   "name": "python3.6.6"
  },
  "language_info": {
   "codemirror_mode": {
    "name": "ipython",
    "version": 3
   },
   "file_extension": ".py",
   "mimetype": "text/x-python",
   "name": "python",
   "nbconvert_exporter": "python",
   "pygments_lexer": "ipython3",
   "version": "3.6.6"
  }
 },
 "nbformat": 4,
 "nbformat_minor": 2
}
